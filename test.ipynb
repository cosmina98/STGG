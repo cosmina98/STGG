{
 "cells": [
  {
   "cell_type": "code",
   "execution_count": 5,
   "metadata": {},
   "outputs": [
    {
     "name": "stdout",
     "output_type": "stream",
     "text": [
      "https://app.neptune.ai/cosmina98/STGG/e/STGG-1\n",
      "Shutting down background jobs, please wait a moment...\n",
      "Done!\n",
      "Waiting for the remaining 34 operations to synchronize with Neptune. Do not kill this process.\n",
      "All 34 operations synced, thanks for waiting!\n",
      "Explore the metadata in the Neptune app:\n",
      "https://app.neptune.ai/cosmina98/STGG/e/STGG-1/metadata\n"
     ]
    }
   ],
   "source": [
    "import neptune.new as neptune\n",
    "\n",
    "# Create a Neptune run object\n",
    "run = neptune.init_run(\n",
    "    project=\"cosmina98/STGG\",  \n",
    "    api_token=\"eyJhcGlfYWRkcmVzcyI6Imh0dHBzOi8vYXBwLm5lcHR1bmUuYWkiLCJhcGlfdXJsIjoiaHR0cHM6Ly9hcHAubmVwdHVuZS5haSIsImFwaV9rZXkiOiI0NDMyMzI5MS04NDU4LTQ0MjctOGQ2MC1mYjAyMmM1MzA4MWUifQ==\"\n",
    ")\n",
    "\n",
    "# Track metadata and hyperparameters by assigning them to the run\n",
    "run[\"JIRA\"] = \"NPT-952\"\n",
    "run[\"algorithm\"] = \"ConvNet\"\n",
    "\n",
    "PARAMS = {\n",
    "    \"batch_size\": 64,\n",
    "    \"dropout\": 0.2,\n",
    "    \"learning_rate\": 0.001,\n",
    "    \"optimizer\": \"Adam\",\n",
    "}\n",
    "run[\"parameters\"] = PARAMS\n",
    "\n",
    "# Track the training process by logging your training metrics\n",
    "for epoch in range(10):\n",
    "    run[\"train/accuracy\"].append(epoch * 0.6)  \n",
    "    run[\"train/loss\"].append(epoch * 0.4)\n",
    "\n",
    "# Record the final results\n",
    "run[\"f1_score\"] = 0.66\n",
    "\n",
    "# Stop the connection and synchronize the data with the Neptune servers\n",
    "run.stop()"
   ]
  },
  {
   "cell_type": "code",
   "execution_count": 6,
   "metadata": {},
   "outputs": [
    {
     "name": "stdout",
     "output_type": "stream",
     "text": [
      "Requirement already satisfied: cython in c:\\users\\cs843\\appdata\\local\\programs\\python\\python310\\lib\\site-packages (0.29.28)\n",
      "Requirement already satisfied: molsets in c:\\users\\cs843\\appdata\\local\\programs\\python\\python310\\lib\\site-packages (0.3.1)\n",
      "Requirement already satisfied: pomegranate==0.12.0 in c:\\users\\cs843\\appdata\\local\\programs\\python\\python310\\lib\\site-packages (from molsets) (0.12.0)\n",
      "Requirement already satisfied: scipy>=1.1.0 in c:\\users\\cs843\\appdata\\local\\programs\\python\\python310\\lib\\site-packages (from molsets) (1.9.0)\n",
      "Requirement already satisfied: matplotlib>=3.0.0 in c:\\users\\cs843\\appdata\\local\\programs\\python\\python310\\lib\\site-packages (from molsets) (3.6.2)\n",
      "Requirement already satisfied: numpy>=1.15 in c:\\users\\cs843\\appdata\\local\\programs\\python\\python310\\lib\\site-packages (from molsets) (1.23.5)\n",
      "Requirement already satisfied: seaborn>=0.9.0 in c:\\users\\cs843\\appdata\\local\\programs\\python\\python310\\lib\\site-packages (from molsets) (0.12.1)\n",
      "Requirement already satisfied: fcd-torch>=1.0.5 in c:\\users\\cs843\\appdata\\local\\programs\\python\\python310\\lib\\site-packages (from molsets) (1.0.7)\n",
      "Requirement already satisfied: tqdm>=4.26.0 in c:\\users\\cs843\\appdata\\local\\programs\\python\\python310\\lib\\site-packages (from molsets) (4.64.1)\n",
      "Requirement already satisfied: pandas>=0.25 in c:\\users\\cs843\\appdata\\local\\programs\\python\\python310\\lib\\site-packages (from molsets) (1.3.5)\n",
      "Requirement already satisfied: torch>=1.1.0 in c:\\users\\cs843\\appdata\\local\\programs\\python\\python310\\lib\\site-packages (from molsets) (1.13.1)\n",
      "Requirement already satisfied: networkx>=2.0 in c:\\users\\cs843\\appdata\\local\\programs\\python\\python310\\lib\\site-packages (from pomegranate==0.12.0->molsets) (2.8.8)\n",
      "Requirement already satisfied: joblib>=0.9.0b4 in c:\\users\\cs843\\appdata\\local\\programs\\python\\python310\\lib\\site-packages (from pomegranate==0.12.0->molsets) (1.1.0)\n",
      "Requirement already satisfied: pyyaml in c:\\users\\cs843\\appdata\\local\\programs\\python\\python310\\lib\\site-packages (from pomegranate==0.12.0->molsets) (6.0)\n",
      "Requirement already satisfied: pillow>=6.2.0 in c:\\users\\cs843\\appdata\\local\\programs\\python\\python310\\lib\\site-packages (from matplotlib>=3.0.0->molsets) (9.2.0)\n",
      "Requirement already satisfied: kiwisolver>=1.0.1 in c:\\users\\cs843\\appdata\\local\\programs\\python\\python310\\lib\\site-packages (from matplotlib>=3.0.0->molsets) (1.4.4)\n",
      "Requirement already satisfied: fonttools>=4.22.0 in c:\\users\\cs843\\appdata\\local\\programs\\python\\python310\\lib\\site-packages (from matplotlib>=3.0.0->molsets) (4.37.4)\n",
      "Requirement already satisfied: contourpy>=1.0.1 in c:\\users\\cs843\\appdata\\local\\programs\\python\\python310\\lib\\site-packages (from matplotlib>=3.0.0->molsets) (1.0.5)\n",
      "Requirement already satisfied: cycler>=0.10 in c:\\users\\cs843\\appdata\\local\\programs\\python\\python310\\lib\\site-packages (from matplotlib>=3.0.0->molsets) (0.11.0)\n",
      "Requirement already satisfied: python-dateutil>=2.7 in c:\\users\\cs843\\appdata\\local\\programs\\python\\python310\\lib\\site-packages (from matplotlib>=3.0.0->molsets) (2.8.2)\n",
      "Requirement already satisfied: pyparsing>=2.2.1 in c:\\users\\cs843\\appdata\\local\\programs\\python\\python310\\lib\\site-packages (from matplotlib>=3.0.0->molsets) (3.0.9)\n",
      "Requirement already satisfied: packaging>=20.0 in c:\\users\\cs843\\appdata\\local\\programs\\python\\python310\\lib\\site-packages (from matplotlib>=3.0.0->molsets) (21.3)\n",
      "Requirement already satisfied: pytz>=2017.3 in c:\\users\\cs843\\appdata\\local\\programs\\python\\python310\\lib\\site-packages (from pandas>=0.25->molsets) (2022.1)\n",
      "Requirement already satisfied: typing-extensions in c:\\users\\cs843\\appdata\\local\\programs\\python\\python310\\lib\\site-packages (from torch>=1.1.0->molsets) (4.4.0)\n",
      "Requirement already satisfied: colorama in c:\\users\\cs843\\appdata\\local\\programs\\python\\python310\\lib\\site-packages (from tqdm>=4.26.0->molsets) (0.4.5)\n",
      "Requirement already satisfied: six>=1.5 in c:\\users\\cs843\\appdata\\local\\programs\\python\\python310\\lib\\site-packages (from python-dateutil>=2.7->matplotlib>=3.0.0->molsets) (1.16.0)\n"
     ]
    }
   ],
   "source": [
    "!pip install cython\n",
    "!pip install molsets"
   ]
  },
  {
   "cell_type": "code",
   "execution_count": 8,
   "metadata": {},
   "outputs": [
    {
     "name": "stdout",
     "output_type": "stream",
     "text": [
      "^C\n"
     ]
    }
   ],
   "source": [
    "!bash"
   ]
  },
  {
   "cell_type": "code",
   "execution_count": 16,
   "metadata": {},
   "outputs": [
    {
     "name": "stdout",
     "output_type": "stream",
     "text": [
      " Volume in drive C is OSDisk\n",
      " Volume Serial Number is 1AD5-DE04\n",
      "\n",
      " Directory of c:\\Users\\cs843\\Documents\\PhD\\2023\\March\\STGG\\script\n",
      "\n",
      "27/02/2023  16:46    <DIR>          .\n",
      "27/02/2023  16:46    <DIR>          ..\n",
      "27/02/2023  16:46               108 condgenerator_zinc.sh\n",
      "27/02/2023  16:46               100 generator_moses.sh\n",
      "27/02/2023  16:46               125 generator_zinc.sh\n",
      "27/02/2023  16:46               186 generator_zinc_A.sh\n",
      "27/02/2023  16:46               168 generator_zinc_S.sh\n",
      "27/02/2023  16:46               149 generator_zinc_ST.sh\n",
      "27/02/2023  16:46               129 generator_zinc_STG.sh\n",
      "27/02/2023  16:46                96 generator_zinc_STGV.sh\n",
      "               8 File(s)          1,061 bytes\n",
      "               2 Dir(s)  361,750,499,328 bytes free\n"
     ]
    }
   ],
   "source": [
    "ls"
   ]
  },
  {
   "cell_type": "code",
   "execution_count": 17,
   "metadata": {},
   "outputs": [
    {
     "name": "stderr",
     "output_type": "stream",
     "text": [
      "generator_zinc_A.sh: line 3: python: command not found\n"
     ]
    }
   ],
   "source": [
    "!bash generator_zinc_A.sh"
   ]
  },
  {
   "cell_type": "code",
   "execution_count": 22,
   "metadata": {},
   "outputs": [
    {
     "name": "stderr",
     "output_type": "stream",
     "text": [
      "'source' is not recognized as an internal or external command,\n",
      "operable program or batch file.\n"
     ]
    }
   ],
   "source": [
    "!source ~/.bashrc"
   ]
  },
  {
   "cell_type": "code",
   "execution_count": 27,
   "metadata": {},
   "outputs": [
    {
     "name": "stderr",
     "output_type": "stream",
     "text": [
      "The system cannot find the path specified.\n",
      "'bin' is not recognized as an internal or external command,\n",
      "operable program or batch file.\n",
      "'bin' is not recognized as an internal or external command,\n",
      "operable program or batch file.\n"
     ]
    }
   ],
   "source": [
    "!cd molgen/src/\n",
    "!bin generator_zinc.sh\n",
    "!bin generator_qm9.sh"
   ]
  },
  {
   "cell_type": "code",
   "execution_count": 29,
   "metadata": {},
   "outputs": [
    {
     "name": "stdout",
     "output_type": "stream",
     "text": [
      " Volume in drive C is OSDisk\n",
      " Volume Serial Number is 1AD5-DE04\n",
      "\n",
      " Directory of c:\\Users\\cs843\\Documents\\PhD\\2023\\March\\STGG\\script\n",
      "\n",
      "27/02/2023  16:46    <DIR>          .\n",
      "27/02/2023  16:46    <DIR>          ..\n",
      "27/02/2023  16:46               108 condgenerator_zinc.sh\n",
      "27/02/2023  16:46               100 generator_moses.sh\n",
      "27/02/2023  16:46               125 generator_zinc.sh\n",
      "27/02/2023  16:46               186 generator_zinc_A.sh\n",
      "27/02/2023  16:46               168 generator_zinc_S.sh\n",
      "27/02/2023  16:46               149 generator_zinc_ST.sh\n",
      "27/02/2023  16:46               129 generator_zinc_STG.sh\n",
      "27/02/2023  16:46                96 generator_zinc_STGV.sh\n",
      "               8 File(s)          1,061 bytes\n",
      "               2 Dir(s)  361,715,838,976 bytes free\n"
     ]
    }
   ],
   "source": [
    "ls"
   ]
  },
  {
   "cell_type": "code",
   "execution_count": 46,
   "metadata": {},
   "outputs": [],
   "source": [
    "!cd ../src\n",
    "from model import *\n",
    "\n"
   ]
  },
  {
   "cell_type": "code",
   "execution_count": 47,
   "metadata": {},
   "outputs": [
    {
     "name": "stdout",
     "output_type": "stream",
     "text": [
      "https://app.neptune.ai/cosmina98/STGG/e/STGG-2\n",
      "Shutting down background jobs, please wait a moment...\n",
      "Done!\n",
      "Waiting for the remaining 58 operations to synchronize with Neptune. Do not kill this process.\n",
      "All 58 operations synced, thanks for waiting!\n",
      "Explore the metadata in the Neptune app:\n",
      "https://app.neptune.ai/cosmina98/STGG/e/STGG-2/metadata\n"
     ]
    },
    {
     "name": "stderr",
     "output_type": "stream",
     "text": [
      "c:\\Users\\cs843\\AppData\\Local\\Programs\\Python\\Python310\\lib\\site-packages\\neptune\\common\\warnings.py:62: NeptuneDeprecationWarning: The 'neptune-client' package has been deprecated and will be removed in the future. Install the 'neptune' package instead. For more, see https://docs.neptune.ai/setup/upgrading/\n",
      "  warnings.warn(\n",
      "c:\\Users\\cs843\\AppData\\Local\\Programs\\Python\\Python310\\lib\\site-packages\\neptune\\common\\warnings.py:62: NeptuneDeprecationWarning: You're importing the Neptune client library via the deprecated `neptune.new` module, which will be removed in a future release. Import directly from `neptune` instead.\n",
      "  warnings.warn(\n",
      "Info (NVML): NVML Shared Library Not Found. GPU usage metrics may not be reported. For more information, see https://docs.neptune.ai/help/nvml_error/\n",
      "c:\\Users\\cs843\\AppData\\Local\\Programs\\Python\\Python310\\lib\\site-packages\\neptune\\common\\warnings.py:62: NeptuneUnsupportedType: You're attempting to log a type that is not directly supported by Neptune (<class 'NoneType'>).\n",
      "        Convert the value to a supported type, such as a string or float, or use stringify_unsupported(obj)\n",
      "        for dictionaries or collections that contain unsupported values.\n",
      "        For more, see https://docs.neptune.ai/help/value_of_unsupported_type\n",
      "  warnings.warn(\n",
      "c:\\Users\\cs843\\AppData\\Local\\Programs\\Python\\Python310\\lib\\site-packages\\pytorch_lightning\\trainer\\connectors\\accelerator_connector.py:474: LightningDeprecationWarning: Setting `Trainer(gpus=1)` is deprecated in v1.7 and will be removed in v2.0. Please use `Trainer(accelerator='gpu', devices=1)` instead.\n",
      "  rank_zero_deprecation(\n",
      "Traceback (most recent call last):\n",
      "  File \"c:\\Users\\cs843\\Documents\\PhD\\2023\\March\\STGG\\src\\train_generator.py\", line 234, in <module>\n",
      "    trainer = pl.Trainer(\n",
      "  File \"c:\\Users\\cs843\\AppData\\Local\\Programs\\Python\\Python310\\lib\\site-packages\\pytorch_lightning\\utilities\\argparse.py\", line 348, in insert_env_defaults\n",
      "    return fn(self, **kwargs)\n",
      "  File \"c:\\Users\\cs843\\AppData\\Local\\Programs\\Python\\Python310\\lib\\site-packages\\pytorch_lightning\\trainer\\trainer.py\", line 420, in __init__\n",
      "    self._accelerator_connector = AcceleratorConnector(\n",
      "  File \"c:\\Users\\cs843\\AppData\\Local\\Programs\\Python\\Python310\\lib\\site-packages\\pytorch_lightning\\trainer\\connectors\\accelerator_connector.py\", line 204, in __init__\n",
      "    self._set_parallel_devices_and_init_accelerator()\n",
      "  File \"c:\\Users\\cs843\\AppData\\Local\\Programs\\Python\\Python310\\lib\\site-packages\\pytorch_lightning\\trainer\\connectors\\accelerator_connector.py\", line 561, in _set_parallel_devices_and_init_accelerator\n",
      "    raise MisconfigurationException(\n",
      "lightning_fabric.utilities.exceptions.MisconfigurationException: `CUDAAccelerator` can not run on your system since the accelerator is not available. The following accelerator(s) is available and can be passed into `accelerator` argument of `Trainer`: ['cpu'].\n"
     ]
    }
   ],
   "source": [
    "\n",
    "!python ../src/train_generator.py \\\n",
    "--dataset_name zinc \\\n",
    "--num_layers 3 \\\n",
    "--disable_valencemask \\\n",
    "--disable_graphmask \\\n",
    "--disable_treeloc \\\n",
    "--enable_absloc \\\n",
    "--tag generator_zinc_A\n",
    "--lr=1e-4"
   ]
  },
  {
   "cell_type": "code",
   "execution_count": null,
   "metadata": {},
   "outputs": [],
   "source": []
  }
 ],
 "metadata": {
  "kernelspec": {
   "display_name": "Python 3",
   "language": "python",
   "name": "python3"
  },
  "language_info": {
   "codemirror_mode": {
    "name": "ipython",
    "version": 3
   },
   "file_extension": ".py",
   "mimetype": "text/x-python",
   "name": "python",
   "nbconvert_exporter": "python",
   "pygments_lexer": "ipython3",
   "version": "3.10.5"
  },
  "orig_nbformat": 4,
  "vscode": {
   "interpreter": {
    "hash": "06a8be8316eed2f6558da5cb68a9abde15f0a0ec61139bf81bc916fa7c6839e3"
   }
  }
 },
 "nbformat": 4,
 "nbformat_minor": 2
}
