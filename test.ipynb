{
 "cells": [
  {
   "cell_type": "code",
   "execution_count": null,
   "metadata": {
    "tags": []
   },
   "outputs": [
    {
     "name": "stdout",
     "output_type": "stream",
     "text": [
      "https://app.neptune.ai/cosmina98/STGG/e/STGG-1\n",
      "Shutting down background jobs, please wait a moment...\n",
      "Done!\n",
      "Waiting for the remaining 34 operations to synchronize with Neptune. Do not kill this process.\n",
      "All 34 operations synced, thanks for waiting!\n",
      "Explore the metadata in the Neptune app:\n",
      "https://app.neptune.ai/cosmina98/STGG/e/STGG-1/metadata\n"
     ]
    }
   ],
   "source": [
    "import neptune.new as neptune\n",
    "\n",
    "# Create a Neptune run object\n",
    "run = neptune.init_run(\n",
    "    project=\"cosmina98/STGG\",  \n",
    "    api_token=\"eyJhcGlfYWRkcmVzcyI6Imh0dHBzOi8vYXBwLm5lcHR1bmUuYWkiLCJhcGlfdXJsIjoiaHR0cHM6Ly9hcHAubmVwdHVuZS5haSIsImFwaV9rZXkiOiI0NDMyMzI5MS04NDU4LTQ0MjctOGQ2MC1mYjAyMmM1MzA4MWUifQ==\"\n",
    ")\n",
    "\n",
    "# Track metadata and hyperparameters by assigning them to the run\n",
    "run[\"JIRA\"] = \"NPT-952\"\n",
    "run[\"algorithm\"] = \"ConvNet\"\n",
    "\n",
    "PARAMS = {\n",
    "    \"batch_size\": 64,\n",
    "    \"dropout\": 0.2,\n",
    "    \"learning_rate\": 0.001,\n",
    "    \"optimizer\": \"Adam\",\n",
    "}\n",
    "run[\"parameters\"] = PARAMS\n",
    "\n",
    "# Track the training process by logging your training metrics\n",
    "for epoch in range(10):\n",
    "    run[\"train/accuracy\"].append(epoch * 0.6)  \n",
    "    run[\"train/loss\"].append(epoch * 0.4)\n",
    "\n",
    "# Record the final results\n",
    "run[\"f1_score\"] = 0.66\n",
    "\n",
    "# Stop the connection and synchronize the data with the Neptune servers\n",
    "run.stop()"
   ]
  },
  {
   "cell_type": "code",
   "execution_count": 6,
   "metadata": {},
   "outputs": [
    {
     "name": "stdout",
     "output_type": "stream",
     "text": [
      "Requirement already satisfied: cython in c:\\users\\cs843\\appdata\\local\\programs\\python\\python310\\lib\\site-packages (0.29.28)\n",
      "Requirement already satisfied: molsets in c:\\users\\cs843\\appdata\\local\\programs\\python\\python310\\lib\\site-packages (0.3.1)\n",
      "Requirement already satisfied: pomegranate==0.12.0 in c:\\users\\cs843\\appdata\\local\\programs\\python\\python310\\lib\\site-packages (from molsets) (0.12.0)\n",
      "Requirement already satisfied: scipy>=1.1.0 in c:\\users\\cs843\\appdata\\local\\programs\\python\\python310\\lib\\site-packages (from molsets) (1.9.0)\n",
      "Requirement already satisfied: matplotlib>=3.0.0 in c:\\users\\cs843\\appdata\\local\\programs\\python\\python310\\lib\\site-packages (from molsets) (3.6.2)\n",
      "Requirement already satisfied: numpy>=1.15 in c:\\users\\cs843\\appdata\\local\\programs\\python\\python310\\lib\\site-packages (from molsets) (1.23.5)\n",
      "Requirement already satisfied: seaborn>=0.9.0 in c:\\users\\cs843\\appdata\\local\\programs\\python\\python310\\lib\\site-packages (from molsets) (0.12.1)\n",
      "Requirement already satisfied: fcd-torch>=1.0.5 in c:\\users\\cs843\\appdata\\local\\programs\\python\\python310\\lib\\site-packages (from molsets) (1.0.7)\n",
      "Requirement already satisfied: tqdm>=4.26.0 in c:\\users\\cs843\\appdata\\local\\programs\\python\\python310\\lib\\site-packages (from molsets) (4.64.1)\n",
      "Requirement already satisfied: pandas>=0.25 in c:\\users\\cs843\\appdata\\local\\programs\\python\\python310\\lib\\site-packages (from molsets) (1.3.5)\n",
      "Requirement already satisfied: torch>=1.1.0 in c:\\users\\cs843\\appdata\\local\\programs\\python\\python310\\lib\\site-packages (from molsets) (1.13.1)\n",
      "Requirement already satisfied: networkx>=2.0 in c:\\users\\cs843\\appdata\\local\\programs\\python\\python310\\lib\\site-packages (from pomegranate==0.12.0->molsets) (2.8.8)\n",
      "Requirement already satisfied: joblib>=0.9.0b4 in c:\\users\\cs843\\appdata\\local\\programs\\python\\python310\\lib\\site-packages (from pomegranate==0.12.0->molsets) (1.1.0)\n",
      "Requirement already satisfied: pyyaml in c:\\users\\cs843\\appdata\\local\\programs\\python\\python310\\lib\\site-packages (from pomegranate==0.12.0->molsets) (6.0)\n",
      "Requirement already satisfied: pillow>=6.2.0 in c:\\users\\cs843\\appdata\\local\\programs\\python\\python310\\lib\\site-packages (from matplotlib>=3.0.0->molsets) (9.2.0)\n",
      "Requirement already satisfied: kiwisolver>=1.0.1 in c:\\users\\cs843\\appdata\\local\\programs\\python\\python310\\lib\\site-packages (from matplotlib>=3.0.0->molsets) (1.4.4)\n",
      "Requirement already satisfied: fonttools>=4.22.0 in c:\\users\\cs843\\appdata\\local\\programs\\python\\python310\\lib\\site-packages (from matplotlib>=3.0.0->molsets) (4.37.4)\n",
      "Requirement already satisfied: contourpy>=1.0.1 in c:\\users\\cs843\\appdata\\local\\programs\\python\\python310\\lib\\site-packages (from matplotlib>=3.0.0->molsets) (1.0.5)\n",
      "Requirement already satisfied: cycler>=0.10 in c:\\users\\cs843\\appdata\\local\\programs\\python\\python310\\lib\\site-packages (from matplotlib>=3.0.0->molsets) (0.11.0)\n",
      "Requirement already satisfied: python-dateutil>=2.7 in c:\\users\\cs843\\appdata\\local\\programs\\python\\python310\\lib\\site-packages (from matplotlib>=3.0.0->molsets) (2.8.2)\n",
      "Requirement already satisfied: pyparsing>=2.2.1 in c:\\users\\cs843\\appdata\\local\\programs\\python\\python310\\lib\\site-packages (from matplotlib>=3.0.0->molsets) (3.0.9)\n",
      "Requirement already satisfied: packaging>=20.0 in c:\\users\\cs843\\appdata\\local\\programs\\python\\python310\\lib\\site-packages (from matplotlib>=3.0.0->molsets) (21.3)\n",
      "Requirement already satisfied: pytz>=2017.3 in c:\\users\\cs843\\appdata\\local\\programs\\python\\python310\\lib\\site-packages (from pandas>=0.25->molsets) (2022.1)\n",
      "Requirement already satisfied: typing-extensions in c:\\users\\cs843\\appdata\\local\\programs\\python\\python310\\lib\\site-packages (from torch>=1.1.0->molsets) (4.4.0)\n",
      "Requirement already satisfied: colorama in c:\\users\\cs843\\appdata\\local\\programs\\python\\python310\\lib\\site-packages (from tqdm>=4.26.0->molsets) (0.4.5)\n",
      "Requirement already satisfied: six>=1.5 in c:\\users\\cs843\\appdata\\local\\programs\\python\\python310\\lib\\site-packages (from python-dateutil>=2.7->matplotlib>=3.0.0->molsets) (1.16.0)\n"
     ]
    }
   ],
   "source": [
    "!pip install cython\n",
    "!pip install molsets"
   ]
  },
  {
   "cell_type": "code",
   "execution_count": 8,
   "metadata": {},
   "outputs": [
    {
     "name": "stdout",
     "output_type": "stream",
     "text": [
      "^C\n"
     ]
    }
   ],
   "source": [
    "!bash"
   ]
  },
  {
   "cell_type": "code",
   "execution_count": 16,
   "metadata": {},
   "outputs": [
    {
     "name": "stdout",
     "output_type": "stream",
     "text": [
      " Volume in drive C is OSDisk\n",
      " Volume Serial Number is 1AD5-DE04\n",
      "\n",
      " Directory of c:\\Users\\cs843\\Documents\\PhD\\2023\\March\\STGG\\script\n",
      "\n",
      "27/02/2023  16:46    <DIR>          .\n",
      "27/02/2023  16:46    <DIR>          ..\n",
      "27/02/2023  16:46               108 condgenerator_zinc.sh\n",
      "27/02/2023  16:46               100 generator_moses.sh\n",
      "27/02/2023  16:46               125 generator_zinc.sh\n",
      "27/02/2023  16:46               186 generator_zinc_A.sh\n",
      "27/02/2023  16:46               168 generator_zinc_S.sh\n",
      "27/02/2023  16:46               149 generator_zinc_ST.sh\n",
      "27/02/2023  16:46               129 generator_zinc_STG.sh\n",
      "27/02/2023  16:46                96 generator_zinc_STGV.sh\n",
      "               8 File(s)          1,061 bytes\n",
      "               2 Dir(s)  361,750,499,328 bytes free\n"
     ]
    }
   ],
   "source": [
    "ls"
   ]
  },
  {
   "cell_type": "code",
   "execution_count": 17,
   "metadata": {},
   "outputs": [
    {
     "name": "stderr",
     "output_type": "stream",
     "text": [
      "generator_zinc_A.sh: line 3: python: command not found\n"
     ]
    }
   ],
   "source": [
    "!bash generator_zinc_A.sh"
   ]
  },
  {
   "cell_type": "code",
   "execution_count": 22,
   "metadata": {},
   "outputs": [
    {
     "name": "stderr",
     "output_type": "stream",
     "text": [
      "'source' is not recognized as an internal or external command,\n",
      "operable program or batch file.\n"
     ]
    }
   ],
   "source": [
    "!source ~/.bashrc"
   ]
  },
  {
   "cell_type": "code",
   "execution_count": 27,
   "metadata": {},
   "outputs": [
    {
     "name": "stderr",
     "output_type": "stream",
     "text": [
      "The system cannot find the path specified.\n",
      "'bin' is not recognized as an internal or external command,\n",
      "operable program or batch file.\n",
      "'bin' is not recognized as an internal or external command,\n",
      "operable program or batch file.\n"
     ]
    }
   ],
   "source": [
    "!cd molgen/src/\n",
    "!bin generator_zinc.sh\n",
    "!bin generator_qm9.sh"
   ]
  },
  {
   "cell_type": "code",
   "execution_count": 29,
   "metadata": {},
   "outputs": [
    {
     "name": "stdout",
     "output_type": "stream",
     "text": [
      " Volume in drive C is OSDisk\n",
      " Volume Serial Number is 1AD5-DE04\n",
      "\n",
      " Directory of c:\\Users\\cs843\\Documents\\PhD\\2023\\March\\STGG\\script\n",
      "\n",
      "27/02/2023  16:46    <DIR>          .\n",
      "27/02/2023  16:46    <DIR>          ..\n",
      "27/02/2023  16:46               108 condgenerator_zinc.sh\n",
      "27/02/2023  16:46               100 generator_moses.sh\n",
      "27/02/2023  16:46               125 generator_zinc.sh\n",
      "27/02/2023  16:46               186 generator_zinc_A.sh\n",
      "27/02/2023  16:46               168 generator_zinc_S.sh\n",
      "27/02/2023  16:46               149 generator_zinc_ST.sh\n",
      "27/02/2023  16:46               129 generator_zinc_STG.sh\n",
      "27/02/2023  16:46                96 generator_zinc_STGV.sh\n",
      "               8 File(s)          1,061 bytes\n",
      "               2 Dir(s)  361,715,838,976 bytes free\n"
     ]
    }
   ],
   "source": [
    "ls"
   ]
  },
  {
   "cell_type": "code",
   "execution_count": 46,
   "metadata": {},
   "outputs": [],
   "source": [
    "!cd ../src\n",
    "from model import *\n",
    "\n"
   ]
  },
  {
   "cell_type": "code",
   "execution_count": 54,
   "metadata": {},
   "outputs": [
    {
     "name": "stdout",
     "output_type": "stream",
     "text": [
      "https://app.neptune.ai/cosmina98/STGG/e/STGG-7\n",
      "\n",
      "Sanity Checking: 0it [00:00, ?it/s]\n",
      "Sanity Checking:   0%|          | 0/2 [00:00<?, ?it/s]\n",
      "Sanity Checking DataLoader 0:   0%|          | 0/2 [00:00<?, ?it/s]\n",
      "Sanity Checking DataLoader 0:  50%|█████     | 1/2 [00:22<00:22, 22.21s/it]\n",
      "Sanity Checking DataLoader 0: 100%|██████████| 2/2 [00:41<00:00, 20.91s/it]\n",
      "                                                                           \n",
      "\n",
      "Training: 0it [00:00, ?it/s]\n",
      "Training:   0%|          | 0/1908 [00:00<?, ?it/s]\n",
      "Epoch 0:   0%|          | 0/1908 [00:00<?, ?it/s] Shutting down background jobs, please wait a moment...\n",
      "Done!\n",
      "Waiting for the remaining 184 operations to synchronize with Neptune. Do not kill this process.\n",
      "All 184 operations synced, thanks for waiting!\n",
      "Explore the metadata in the Neptune app:\n",
      "https://app.neptune.ai/cosmina98/STGG/e/STGG-7/metadata\n"
     ]
    },
    {
     "name": "stderr",
     "output_type": "stream",
     "text": [
      "c:\\Users\\cs843\\AppData\\Local\\Programs\\Python\\Python310\\lib\\site-packages\\neptune\\common\\warnings.py:62: NeptuneDeprecationWarning: The 'neptune-client' package has been deprecated and will be removed in the future. Install the 'neptune' package instead. For more, see https://docs.neptune.ai/setup/upgrading/\n",
      "  warnings.warn(\n",
      "c:\\Users\\cs843\\AppData\\Local\\Programs\\Python\\Python310\\lib\\site-packages\\neptune\\common\\warnings.py:62: NeptuneDeprecationWarning: You're importing the Neptune client library via the deprecated `neptune.new` module, which will be removed in a future release. Import directly from `neptune` instead.\n",
      "  warnings.warn(\n",
      "Info (NVML): NVML Shared Library Not Found. GPU usage metrics may not be reported. For more information, see https://docs.neptune.ai/help/nvml_error/\n",
      "c:\\Users\\cs843\\AppData\\Local\\Programs\\Python\\Python310\\lib\\site-packages\\neptune\\common\\warnings.py:62: NeptuneUnsupportedType: You're attempting to log a type that is not directly supported by Neptune (<class 'NoneType'>).\n",
      "        Convert the value to a supported type, such as a string or float, or use stringify_unsupported(obj)\n",
      "        for dictionaries or collections that contain unsupported values.\n",
      "        For more, see https://docs.neptune.ai/help/value_of_unsupported_type\n",
      "  warnings.warn(\n",
      "GPU available: False, used: False\n",
      "TPU available: False, using: 0 TPU cores\n",
      "IPU available: False, using: 0 IPUs\n",
      "HPU available: False, using: 0 HPUs\n",
      "\n",
      "  | Name  | Type          | Params\n",
      "----------------------------------------\n",
      "0 | model | BaseGenerator | 27.7 M\n",
      "----------------------------------------\n",
      "27.7 M    Trainable params\n",
      "0         Non-trainable params\n",
      "27.7 M    Total params\n",
      "110.997   Total estimated model params size (MB)\n",
      "c:\\Users\\cs843\\AppData\\Local\\Programs\\Python\\Python310\\lib\\site-packages\\neptune\\common\\warnings.py:62: NeptuneDeprecationWarning: The 'neptune-client' package has been deprecated and will be removed in the future. Install the 'neptune' package instead. For more, see https://docs.neptune.ai/setup/upgrading/\n",
      "  warnings.warn(\n",
      "c:\\Users\\cs843\\AppData\\Local\\Programs\\Python\\Python310\\lib\\site-packages\\neptune\\common\\warnings.py:62: NeptuneDeprecationWarning: You're importing the Neptune client library via the deprecated `neptune.new` module, which will be removed in a future release. Import directly from `neptune` instead.\n",
      "  warnings.warn(\n",
      "c:\\Users\\cs843\\AppData\\Local\\Programs\\Python\\Python310\\lib\\site-packages\\neptune\\common\\warnings.py:62: NeptuneDeprecationWarning: The 'neptune-client' package has been deprecated and will be removed in the future. Install the 'neptune' package instead. For more, see https://docs.neptune.ai/setup/upgrading/\n",
      "  warnings.warn(\n",
      "c:\\Users\\cs843\\AppData\\Local\\Programs\\Python\\Python310\\lib\\site-packages\\neptune\\common\\warnings.py:62: NeptuneDeprecationWarning: You're importing the Neptune client library via the deprecated `neptune.new` module, which will be removed in a future release. Import directly from `neptune` instead.\n",
      "  warnings.warn(\n",
      "c:\\Users\\cs843\\AppData\\Local\\Programs\\Python\\Python310\\lib\\site-packages\\neptune\\common\\warnings.py:62: NeptuneDeprecationWarning: The 'neptune-client' package has been deprecated and will be removed in the future. Install the 'neptune' package instead. For more, see https://docs.neptune.ai/setup/upgrading/\n",
      "  warnings.warn(\n",
      "c:\\Users\\cs843\\AppData\\Local\\Programs\\Python\\Python310\\lib\\site-packages\\neptune\\common\\warnings.py:62: NeptuneDeprecationWarning: You're importing the Neptune client library via the deprecated `neptune.new` module, which will be removed in a future release. Import directly from `neptune` instead.\n",
      "  warnings.warn(\n",
      "c:\\Users\\cs843\\AppData\\Local\\Programs\\Python\\Python310\\lib\\site-packages\\neptune\\common\\warnings.py:62: NeptuneDeprecationWarning: The 'neptune-client' package has been deprecated and will be removed in the future. Install the 'neptune' package instead. For more, see https://docs.neptune.ai/setup/upgrading/\n",
      "  warnings.warn(\n",
      "c:\\Users\\cs843\\AppData\\Local\\Programs\\Python\\Python310\\lib\\site-packages\\neptune\\common\\warnings.py:62: NeptuneDeprecationWarning: You're importing the Neptune client library via the deprecated `neptune.new` module, which will be removed in a future release. Import directly from `neptune` instead.\n",
      "  warnings.warn(\n",
      "c:\\Users\\cs843\\AppData\\Local\\Programs\\Python\\Python310\\lib\\site-packages\\neptune\\common\\warnings.py:62: NeptuneDeprecationWarning: The 'neptune-client' package has been deprecated and will be removed in the future. Install the 'neptune' package instead. For more, see https://docs.neptune.ai/setup/upgrading/\n",
      "  warnings.warn(\n",
      "c:\\Users\\cs843\\AppData\\Local\\Programs\\Python\\Python310\\lib\\site-packages\\neptune\\common\\warnings.py:62: NeptuneDeprecationWarning: You're importing the Neptune client library via the deprecated `neptune.new` module, which will be removed in a future release. Import directly from `neptune` instead.\n",
      "  warnings.warn(\n",
      "c:\\Users\\cs843\\AppData\\Local\\Programs\\Python\\Python310\\lib\\site-packages\\neptune\\common\\warnings.py:62: NeptuneDeprecationWarning: The 'neptune-client' package has been deprecated and will be removed in the future. Install the 'neptune' package instead. For more, see https://docs.neptune.ai/setup/upgrading/\n",
      "  warnings.warn(\n",
      "c:\\Users\\cs843\\AppData\\Local\\Programs\\Python\\Python310\\lib\\site-packages\\neptune\\common\\warnings.py:62: NeptuneDeprecationWarning: You're importing the Neptune client library via the deprecated `neptune.new` module, which will be removed in a future release. Import directly from `neptune` instead.\n",
      "  warnings.warn(\n",
      "c:\\Users\\cs843\\AppData\\Local\\Programs\\Python\\Python310\\lib\\site-packages\\neptune\\common\\warnings.py:62: NeptuneDeprecationWarning: The 'neptune-client' package has been deprecated and will be removed in the future. Install the 'neptune' package instead. For more, see https://docs.neptune.ai/setup/upgrading/\n",
      "  warnings.warn(\n",
      "c:\\Users\\cs843\\AppData\\Local\\Programs\\Python\\Python310\\lib\\site-packages\\neptune\\common\\warnings.py:62: NeptuneDeprecationWarning: You're importing the Neptune client library via the deprecated `neptune.new` module, which will be removed in a future release. Import directly from `neptune` instead.\n",
      "  warnings.warn(\n",
      "c:\\Users\\cs843\\AppData\\Local\\Programs\\Python\\Python310\\lib\\site-packages\\neptune\\common\\warnings.py:62: NeptuneDeprecationWarning: The 'neptune-client' package has been deprecated and will be removed in the future. Install the 'neptune' package instead. For more, see https://docs.neptune.ai/setup/upgrading/\n",
      "  warnings.warn(\n",
      "c:\\Users\\cs843\\AppData\\Local\\Programs\\Python\\Python310\\lib\\site-packages\\neptune\\common\\warnings.py:62: NeptuneDeprecationWarning: You're importing the Neptune client library via the deprecated `neptune.new` module, which will be removed in a future release. Import directly from `neptune` instead.\n",
      "  warnings.warn(\n",
      "c:\\Users\\cs843\\AppData\\Local\\Programs\\Python\\Python310\\lib\\site-packages\\neptune\\common\\warnings.py:62: NeptuneDeprecationWarning: The 'neptune-client' package has been deprecated and will be removed in the future. Install the 'neptune' package instead. For more, see https://docs.neptune.ai/setup/upgrading/\n",
      "  warnings.warn(\n",
      "c:\\Users\\cs843\\AppData\\Local\\Programs\\Python\\Python310\\lib\\site-packages\\neptune\\common\\warnings.py:62: NeptuneDeprecationWarning: You're importing the Neptune client library via the deprecated `neptune.new` module, which will be removed in a future release. Import directly from `neptune` instead.\n",
      "  warnings.warn(\n",
      "c:\\Users\\cs843\\AppData\\Local\\Programs\\Python\\Python310\\lib\\site-packages\\neptune\\common\\warnings.py:62: NeptuneDeprecationWarning: The 'neptune-client' package has been deprecated and will be removed in the future. Install the 'neptune' package instead. For more, see https://docs.neptune.ai/setup/upgrading/\n",
      "  warnings.warn(\n",
      "c:\\Users\\cs843\\AppData\\Local\\Programs\\Python\\Python310\\lib\\site-packages\\neptune\\common\\warnings.py:62: NeptuneDeprecationWarning: You're importing the Neptune client library via the deprecated `neptune.new` module, which will be removed in a future release. Import directly from `neptune` instead.\n",
      "  warnings.warn(\n",
      "c:\\Users\\cs843\\AppData\\Local\\Programs\\Python\\Python310\\lib\\site-packages\\neptune\\common\\warnings.py:62: NeptuneDeprecationWarning: The 'neptune-client' package has been deprecated and will be removed in the future. Install the 'neptune' package instead. For more, see https://docs.neptune.ai/setup/upgrading/\n",
      "  warnings.warn(\n",
      "c:\\Users\\cs843\\AppData\\Local\\Programs\\Python\\Python310\\lib\\site-packages\\neptune\\common\\warnings.py:62: NeptuneDeprecationWarning: You're importing the Neptune client library via the deprecated `neptune.new` module, which will be removed in a future release. Import directly from `neptune` instead.\n",
      "  warnings.warn(\n",
      "c:\\Users\\cs843\\AppData\\Local\\Programs\\Python\\Python310\\lib\\site-packages\\neptune\\common\\warnings.py:62: NeptuneDeprecationWarning: The 'neptune-client' package has been deprecated and will be removed in the future. Install the 'neptune' package instead. For more, see https://docs.neptune.ai/setup/upgrading/\n",
      "  warnings.warn(\n",
      "c:\\Users\\cs843\\AppData\\Local\\Programs\\Python\\Python310\\lib\\site-packages\\neptune\\common\\warnings.py:62: NeptuneDeprecationWarning: You're importing the Neptune client library via the deprecated `neptune.new` module, which will be removed in a future release. Import directly from `neptune` instead.\n",
      "  warnings.warn(\n",
      "Traceback (most recent call last):\n",
      "  File \"c:\\Users\\cs843\\Documents\\PhD\\2023\\March\\STGG\\src\\train_generator.py\", line 242, in <module>\n",
      "    trainer.fit(model)\n",
      "  File \"c:\\Users\\cs843\\AppData\\Local\\Programs\\Python\\Python310\\lib\\site-packages\\pytorch_lightning\\trainer\\trainer.py\", line 608, in fit\n",
      "    call._call_and_handle_interrupt(\n",
      "  File \"c:\\Users\\cs843\\AppData\\Local\\Programs\\Python\\Python310\\lib\\site-packages\\pytorch_lightning\\trainer\\call.py\", line 38, in _call_and_handle_interrupt\n",
      "    return trainer_fn(*args, **kwargs)\n",
      "  File \"c:\\Users\\cs843\\AppData\\Local\\Programs\\Python\\Python310\\lib\\site-packages\\pytorch_lightning\\trainer\\trainer.py\", line 650, in _fit_impl\n",
      "    self._run(model, ckpt_path=self.ckpt_path)\n",
      "  File \"c:\\Users\\cs843\\AppData\\Local\\Programs\\Python\\Python310\\lib\\site-packages\\pytorch_lightning\\trainer\\trainer.py\", line 1112, in _run\n",
      "    results = self._run_stage()\n",
      "  File \"c:\\Users\\cs843\\AppData\\Local\\Programs\\Python\\Python310\\lib\\site-packages\\pytorch_lightning\\trainer\\trainer.py\", line 1191, in _run_stage\n",
      "    self._run_train()\n",
      "  File \"c:\\Users\\cs843\\AppData\\Local\\Programs\\Python\\Python310\\lib\\site-packages\\pytorch_lightning\\trainer\\trainer.py\", line 1214, in _run_train\n",
      "    self.fit_loop.run()\n",
      "  File \"c:\\Users\\cs843\\AppData\\Local\\Programs\\Python\\Python310\\lib\\site-packages\\pytorch_lightning\\loops\\loop.py\", line 199, in run\n",
      "    self.advance(*args, **kwargs)\n",
      "  File \"c:\\Users\\cs843\\AppData\\Local\\Programs\\Python\\Python310\\lib\\site-packages\\pytorch_lightning\\loops\\fit_loop.py\", line 267, in advance\n",
      "    self._outputs = self.epoch_loop.run(self._data_fetcher)\n",
      "  File \"c:\\Users\\cs843\\AppData\\Local\\Programs\\Python\\Python310\\lib\\site-packages\\pytorch_lightning\\loops\\loop.py\", line 199, in run\n",
      "    self.advance(*args, **kwargs)\n",
      "  File \"c:\\Users\\cs843\\AppData\\Local\\Programs\\Python\\Python310\\lib\\site-packages\\pytorch_lightning\\loops\\epoch\\training_epoch_loop.py\", line 213, in advance\n",
      "    batch_output = self.batch_loop.run(kwargs)\n",
      "  File \"c:\\Users\\cs843\\AppData\\Local\\Programs\\Python\\Python310\\lib\\site-packages\\pytorch_lightning\\loops\\loop.py\", line 199, in run\n",
      "    self.advance(*args, **kwargs)\n",
      "  File \"c:\\Users\\cs843\\AppData\\Local\\Programs\\Python\\Python310\\lib\\site-packages\\pytorch_lightning\\loops\\batch\\training_batch_loop.py\", line 88, in advance\n",
      "    outputs = self.optimizer_loop.run(optimizers, kwargs)\n",
      "  File \"c:\\Users\\cs843\\AppData\\Local\\Programs\\Python\\Python310\\lib\\site-packages\\pytorch_lightning\\loops\\loop.py\", line 199, in run\n",
      "    self.advance(*args, **kwargs)\n",
      "  File \"c:\\Users\\cs843\\AppData\\Local\\Programs\\Python\\Python310\\lib\\site-packages\\pytorch_lightning\\loops\\optimization\\optimizer_loop.py\", line 202, in advance\n",
      "    result = self._run_optimization(kwargs, self._optimizers[self.optim_progress.optimizer_position])\n",
      "  File \"c:\\Users\\cs843\\AppData\\Local\\Programs\\Python\\Python310\\lib\\site-packages\\pytorch_lightning\\loops\\optimization\\optimizer_loop.py\", line 249, in _run_optimization\n",
      "    self._optimizer_step(optimizer, opt_idx, kwargs.get(\"batch_idx\", 0), closure)\n",
      "  File \"c:\\Users\\cs843\\AppData\\Local\\Programs\\Python\\Python310\\lib\\site-packages\\pytorch_lightning\\loops\\optimization\\optimizer_loop.py\", line 370, in _optimizer_step\n",
      "    self.trainer._call_lightning_module_hook(\n",
      "  File \"c:\\Users\\cs843\\AppData\\Local\\Programs\\Python\\Python310\\lib\\site-packages\\pytorch_lightning\\trainer\\trainer.py\", line 1356, in _call_lightning_module_hook\n",
      "    output = fn(*args, **kwargs)\n",
      "  File \"c:\\Users\\cs843\\AppData\\Local\\Programs\\Python\\Python310\\lib\\site-packages\\pytorch_lightning\\core\\module.py\", line 1742, in optimizer_step\n",
      "    optimizer.step(closure=optimizer_closure)\n",
      "  File \"c:\\Users\\cs843\\AppData\\Local\\Programs\\Python\\Python310\\lib\\site-packages\\pytorch_lightning\\core\\optimizer.py\", line 169, in step\n",
      "    step_output = self._strategy.optimizer_step(self._optimizer, self._optimizer_idx, closure, **kwargs)\n",
      "  File \"c:\\Users\\cs843\\AppData\\Local\\Programs\\Python\\Python310\\lib\\site-packages\\pytorch_lightning\\strategies\\strategy.py\", line 234, in optimizer_step\n",
      "    return self.precision_plugin.optimizer_step(\n",
      "  File \"c:\\Users\\cs843\\AppData\\Local\\Programs\\Python\\Python310\\lib\\site-packages\\pytorch_lightning\\plugins\\precision\\precision_plugin.py\", line 119, in optimizer_step\n",
      "    return optimizer.step(closure=closure, **kwargs)\n",
      "  File \"c:\\Users\\cs843\\AppData\\Local\\Programs\\Python\\Python310\\lib\\site-packages\\torch\\optim\\optimizer.py\", line 140, in wrapper\n",
      "    out = func(*args, **kwargs)\n",
      "  File \"c:\\Users\\cs843\\AppData\\Local\\Programs\\Python\\Python310\\lib\\site-packages\\torch\\autograd\\grad_mode.py\", line 27, in decorate_context\n",
      "    return func(*args, **kwargs)\n",
      "  File \"c:\\Users\\cs843\\AppData\\Local\\Programs\\Python\\Python310\\lib\\site-packages\\torch\\optim\\adamw.py\", line 120, in step\n",
      "    loss = closure()\n",
      "  File \"c:\\Users\\cs843\\AppData\\Local\\Programs\\Python\\Python310\\lib\\site-packages\\pytorch_lightning\\plugins\\precision\\precision_plugin.py\", line 105, in _wrap_closure\n",
      "    closure_result = closure()\n",
      "  File \"c:\\Users\\cs843\\AppData\\Local\\Programs\\Python\\Python310\\lib\\site-packages\\pytorch_lightning\\loops\\optimization\\optimizer_loop.py\", line 149, in __call__\n",
      "    self._result = self.closure(*args, **kwargs)\n",
      "  File \"c:\\Users\\cs843\\AppData\\Local\\Programs\\Python\\Python310\\lib\\site-packages\\pytorch_lightning\\loops\\optimization\\optimizer_loop.py\", line 135, in closure\n",
      "    step_output = self._step_fn()\n",
      "  File \"c:\\Users\\cs843\\AppData\\Local\\Programs\\Python\\Python310\\lib\\site-packages\\pytorch_lightning\\loops\\optimization\\optimizer_loop.py\", line 419, in _training_step\n",
      "    training_step_output = self.trainer._call_strategy_hook(\"training_step\", *kwargs.values())\n",
      "  File \"c:\\Users\\cs843\\AppData\\Local\\Programs\\Python\\Python310\\lib\\site-packages\\pytorch_lightning\\trainer\\trainer.py\", line 1494, in _call_strategy_hook\n",
      "    output = fn(*args, **kwargs)\n",
      "  File \"c:\\Users\\cs843\\AppData\\Local\\Programs\\Python\\Python310\\lib\\site-packages\\pytorch_lightning\\strategies\\strategy.py\", line 378, in training_step\n",
      "    return self.model.training_step(*args, **kwargs)\n",
      "  File \"c:\\Users\\cs843\\Documents\\PhD\\2023\\March\\STGG\\src\\train_generator.py\", line 100, in training_step\n",
      "    loss, statistics = self.shared_step(batched_data)\n",
      "  File \"c:\\Users\\cs843\\Documents\\PhD\\2023\\March\\STGG\\src\\train_generator.py\", line 92, in shared_step\n",
      "    logits = self.model(batched_data)\n",
      "  File \"c:\\Users\\cs843\\AppData\\Local\\Programs\\Python\\Python310\\lib\\site-packages\\torch\\nn\\modules\\module.py\", line 1194, in _call_impl\n",
      "    return forward_call(*input, **kwargs)\n",
      "  File \"c:\\Users\\cs843\\Documents\\PhD\\2023\\March\\STGG\\src\\model\\generator.py\", line 156, in forward\n",
      "    out = self.transformer(out, mask, key_padding_mask)\n",
      "  File \"c:\\Users\\cs843\\AppData\\Local\\Programs\\Python\\Python310\\lib\\site-packages\\torch\\nn\\modules\\module.py\", line 1194, in _call_impl\n",
      "    return forward_call(*input, **kwargs)\n",
      "  File \"c:\\Users\\cs843\\AppData\\Local\\Programs\\Python\\Python310\\lib\\site-packages\\torch\\nn\\modules\\transformer.py\", line 280, in forward\n",
      "    output = mod(output, src_mask=mask, src_key_padding_mask=src_key_padding_mask_for_layers)\n",
      "  File \"c:\\Users\\cs843\\AppData\\Local\\Programs\\Python\\Python310\\lib\\site-packages\\torch\\nn\\modules\\module.py\", line 1194, in _call_impl\n",
      "    return forward_call(*input, **kwargs)\n",
      "  File \"c:\\Users\\cs843\\AppData\\Local\\Programs\\Python\\Python310\\lib\\site-packages\\torch\\nn\\modules\\transformer.py\", line 538, in forward\n",
      "    x = self.norm1(x + self._sa_block(x, src_mask, src_key_padding_mask))\n",
      "  File \"c:\\Users\\cs843\\AppData\\Local\\Programs\\Python\\Python310\\lib\\site-packages\\torch\\nn\\modules\\transformer.py\", line 550, in _sa_block\n",
      "    return self.dropout1(x)\n",
      "  File \"c:\\Users\\cs843\\AppData\\Local\\Programs\\Python\\Python310\\lib\\site-packages\\torch\\nn\\modules\\module.py\", line 1194, in _call_impl\n",
      "    return forward_call(*input, **kwargs)\n",
      "  File \"c:\\Users\\cs843\\AppData\\Local\\Programs\\Python\\Python310\\lib\\site-packages\\torch\\nn\\modules\\dropout.py\", line 59, in forward\n",
      "    return F.dropout(input, self.p, self.training, self.inplace)\n",
      "  File \"c:\\Users\\cs843\\AppData\\Local\\Programs\\Python\\Python310\\lib\\site-packages\\torch\\nn\\functional.py\", line 1252, in dropout\n",
      "    return _VF.dropout_(input, p, training) if inplace else _VF.dropout(input, p, training)\n",
      "RuntimeError: [enforce fail at ..\\c10\\core\\impl\\alloc_cpu.cpp:72] data. DefaultCPUAllocator: not enough memory: you tried to allocate 61865984 bytes.\n"
     ]
    }
   ],
   "source": [
    "\n",
    "!python ../src/train_generator.py \\\n",
    "--dataset_name zinc \\\n",
    "--num_layers 3 \\\n",
    "--disable_valencemask \\\n",
    "--disable_graphmask \\\n",
    "--disable_treeloc \\\n",
    "--enable_absloc \\\n",
    "--tag generator_zinc_A\n"
   ]
  },
  {
   "cell_type": "code",
   "execution_count": null,
   "metadata": {},
   "outputs": [],
   "source": []
  }
 ],
 "metadata": {
  "kernelspec": {
   "display_name": "Python 3",
   "language": "python",
   "name": "python3"
  },
  "language_info": {
   "codemirror_mode": {
    "name": "ipython",
    "version": 3
   },
   "file_extension": ".py",
   "mimetype": "text/x-python",
   "name": "python",
   "nbconvert_exporter": "python",
   "pygments_lexer": "ipython3",
   "version": "3.10.5"
  },
  "orig_nbformat": 4,
  "vscode": {
   "interpreter": {
    "hash": "06a8be8316eed2f6558da5cb68a9abde15f0a0ec61139bf81bc916fa7c6839e3"
   }
  }
 },
 "nbformat": 4,
 "nbformat_minor": 2
}
